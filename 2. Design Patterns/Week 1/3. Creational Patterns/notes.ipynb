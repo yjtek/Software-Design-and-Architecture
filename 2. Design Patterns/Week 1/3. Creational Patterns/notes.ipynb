{
 "cells": [
  {
   "attachments": {},
   "cell_type": "markdown",
   "metadata": {},
   "source": [
    "# Creational Patterns"
   ]
  },
  {
   "attachments": {},
   "cell_type": "markdown",
   "metadata": {},
   "source": [
    "### Singleton"
   ]
  },
  {
   "attachments": {},
   "cell_type": "markdown",
   "metadata": {},
   "source": [
    "- Having only one object of a class\n",
    "    - e.g. in game design, you may want to create only a single `Preferences` class, so there is one and only one place that defines where a programme should look at to determine user preference\n",
    "- Singleton object must be globally accessible \n",
    "- How is this implemented?\n",
    "    - In Java: Make class constructors private, so it cannot be called from outside the class. Then define a method to instantiate the class by calling the private constructor\n",
    "    - In Python:\n",
    "        - Implement as a module: ```import Singleton from SingletonModule``` \n",
    "            - All imports are singleton by definition\n",
    "        - Implement through modifying `__new__` dunder\n",
    "\n",
    "\n",
    "- Another good thing about singletons is that the object is not created until needed (lazy creation)\n",
    "    "
   ]
  },
  {
   "cell_type": "code",
   "execution_count": 3,
   "metadata": {},
   "outputs": [
    {
     "name": "stdout",
     "output_type": "stream",
     "text": [
      "No existing instance, initing new instance\n",
      "Existing instance found, no new instance created\n",
      "Singleton Variable\n"
     ]
    }
   ],
   "source": [
    "'''Only 1 instance can be created, else the class will return the existing instance'''\n",
    "class SingletonClass(object):\n",
    "  def __new__(cls):\n",
    "    if not hasattr(cls, 'instance'):\n",
    "      print(\"No existing instance, initing new instance\")\n",
    "      cls.instance = super(SingletonClass, cls).__new__(cls)\n",
    "    else:\n",
    "      print(\"Existing instance found, no new instance created\")\n",
    "    return cls.instance\n",
    "\n",
    "singleton = SingletonClass()\n",
    "new_singleton = SingletonClass()"
   ]
  },
  {
   "cell_type": "code",
   "execution_count": null,
   "metadata": {},
   "outputs": [],
   "source": [
    "'''Modifying the attribute for the first class automatically modifies the second'''\n",
    "singleton.singleton_variable = \"Singleton Variable\"\n",
    "print(new_singleton.singleton_variable)"
   ]
  },
  {
   "cell_type": "code",
   "execution_count": 5,
   "metadata": {},
   "outputs": [
    {
     "name": "stdout",
     "output_type": "stream",
     "text": [
      "Existing instance found, no new instance created\n"
     ]
    }
   ],
   "source": [
    "'''Subclassing a Singleton superclass and trying to create a subclass'''\n",
    "class SingletonChild(SingletonClass):\n",
    "    ...\n",
    "singletonChild = SingletonChild()"
   ]
  },
  {
   "cell_type": "code",
   "execution_count": 22,
   "metadata": {},
   "outputs": [],
   "source": [
    "'''\n",
    "There is another type of pseudo Singletons, where different instantiations of a class are possible, but with a \n",
    "common states shared across all instantiations. These are called Borg Singletons.\n",
    "\n",
    "Breaking down the details here\n",
    "- We modify the constructor __new__ for the parent BorgSingleton to contain the `_shared_borg_state` class attribute \n",
    "within the class attribute dict (__dict__)\n",
    "- Notice how the class attribute dict (obj.__dict__) is the SAME OBJECT as cls._shared_borg_state (i.e. it is not a \n",
    "COPY of cls._shared_borg_state, but points to the same memory address)\n",
    "- As a result, any modification to the object's attribute will also modify the _shared_borg_state\n",
    "'''\n",
    "class BorgSingleton(object):\n",
    "  _shared_borg_state = {}\n",
    "   \n",
    "  def __new__(cls, *args, **kwargs):\n",
    "    obj = super(BorgSingleton, cls).__new__(cls, *args, **kwargs)\n",
    "    obj.__dict__ = cls._shared_borg_state\n",
    "    return obj\n",
    "   \n",
    "class ChildBorg(BorgSingleton):\n",
    "  pass\n",
    " \n",
    "borg = BorgSingleton()\n",
    "child = ChildBorg()"
   ]
  },
  {
   "cell_type": "code",
   "execution_count": 23,
   "metadata": {},
   "outputs": [
    {
     "name": "stdout",
     "output_type": "stream",
     "text": [
      "{}\n",
      "{}\n",
      "{'newattr': 'newattr'}\n",
      "{'newattr': 'newattr'}\n"
     ]
    }
   ],
   "source": [
    "print(borg.__dict__)\n",
    "print(child.__dict__)\n",
    "borg.newattr = 'newattr'\n",
    "print(borg.__dict__)\n",
    "print(child.__dict__)"
   ]
  },
  {
   "cell_type": "code",
   "execution_count": null,
   "metadata": {},
   "outputs": [],
   "source": []
  },
  {
   "cell_type": "code",
   "execution_count": null,
   "metadata": {},
   "outputs": [],
   "source": []
  },
  {
   "cell_type": "code",
   "execution_count": null,
   "metadata": {},
   "outputs": [],
   "source": []
  },
  {
   "cell_type": "code",
   "execution_count": null,
   "metadata": {},
   "outputs": [],
   "source": []
  },
  {
   "cell_type": "code",
   "execution_count": 8,
   "metadata": {},
   "outputs": [
    {
     "name": "stdout",
     "output_type": "stream",
     "text": [
      "123\n",
      "123\n"
     ]
    }
   ],
   "source": [
    "childBorg.new_attr = '123'\n",
    "print(childBorg.new_attr)\n",
    "print(borg.new_attr)"
   ]
  },
  {
   "attachments": {},
   "cell_type": "markdown",
   "metadata": {},
   "source": [
    "### Factory method"
   ]
  },
  {
   "attachments": {},
   "cell_type": "markdown",
   "metadata": {},
   "source": [
    "- Factories are meant to create objects\n",
    "- Let's suppose we are running a knife store\n",
    "    - Parent class `Knife`\n",
    "    - Subclasses `SteakKnife` and `ChefKnife`\n",
    "    - Method `orderKnife`, which creates a knife object, prepares (`sharpen`, `polish`, `package`), and ships it\n",
    "    - Depending on what parameter gets passed, an actual knife is **instantiated**.\n",
    "        - This is called **concrete instatiation**"
   ]
  },
  {
   "cell_type": "code",
   "execution_count": 25,
   "metadata": {},
   "outputs": [],
   "source": [
    "def orderKnife(knife_type: str):\n",
    "    if knife_type == 'steak':\n",
    "        knife = SteakKnife()\n",
    "    elif knife_type == 'chef':\n",
    "        knife = ChefKnife()\n",
    "    elif knife_type == 'someothertype':\n",
    "        knife = SomeOtherKnife()\n",
    "    elif ...\n",
    "\n",
    "    knife.sharpen()\n",
    "    knife.polish()\n",
    "    knife.package()\n",
    "\n",
    "    return knife"
   ]
  },
  {
   "attachments": {},
   "cell_type": "markdown",
   "metadata": {},
   "source": [
    "- As your store grows, you need to constantly add on more cases to the concrete instantiation! What if you could move the if statement elsewhere??\n",
    "    - Create a factory object to delegate responsibility of product creation!\n",
    "    - i.e. make a knife factory\n",
    "\n",
    "- This factory is then used by the orderKnife method "
   ]
  },
  {
   "cell_type": "code",
   "execution_count": null,
   "metadata": {},
   "outputs": [],
   "source": [
    "class KnifeFactory:\n",
    "    def createKnife(knife_type:str):\n",
    "        if knife_type == 'steak':\n",
    "            knife = SteakKnife()\n",
    "        elif knife_type == 'chef':\n",
    "            knife = ChefKnife()\n",
    "        elif knife_type == 'someothertype':\n",
    "            knife = SomeOtherKnife()\n",
    "        elif ...\n",
    "        return knife\n",
    "        \n",
    "def orderKnife(knife_type: str, knife_factory):\n",
    "    knife = knife_factory.createKnife(knife_type)\n",
    "\n",
    "    knife.sharpen()\n",
    "    knife.polish()\n",
    "    knife.package()\n",
    "\n",
    "    return knife"
   ]
  },
  {
   "attachments": {},
   "cell_type": "markdown",
   "metadata": {},
   "source": [
    "- What are the advantages?\n",
    "    - Other clients can reuse the factory to get knives, not just your orderKnife method\n",
    "    - Only 1 source of instantiation, so modifications to the instantiation code only happens in 1 place\n",
    "    - Concrete methods (sharpen, polish, packge) no longer deal with concrete knife classes, but with knife generalisations\n",
    "    - This is known as **coding to an interface, not an implementation**"
   ]
  },
  {
   "attachments": {},
   "cell_type": "markdown",
   "metadata": {},
   "source": [
    "- So far, we talked about using a *factory object* to instantiate product objects\n",
    "\n",
    "- What is a **factory method** then?\n",
    "    - Instead of using a factory object to create objects, use a separate method in the same class to create an object\n",
    "    - The idea is to define an interface for creating objects, but let subclasses decide which class to instantiate"
   ]
  },
  {
   "cell_type": "code",
   "execution_count": null,
   "metadata": {},
   "outputs": [],
   "source": [
    "import abc\n",
    "class KnifeStore(metaclass=abc.ABCMeta):\n",
    "    \n",
    "    def orderKnife(self,knife_type):\n",
    "        knife = self.createKnife(knife_type)\n",
    "        knife.sharpen()\n",
    "        knife.polish()\n",
    "        knife.package()\n",
    "        return knife\n",
    "    \n",
    "    @abc.abstractmethod\n",
    "    def createKnife(self, knife_type):\n",
    "        raise NotImplementedError\n",
    "    \n",
    "class Knife(metaclass=abc.ABCMeta):\n",
    "    ...\n",
    "\n",
    "class BudgetSteakKnife(Knife):\n",
    "    ...\n",
    "\n",
    "class BudgetChefKnife(Knife):\n",
    "    ...\n",
    "\n",
    "class BudgetKnifeStore(KnifeStore):\n",
    "    def createKnife(self, knife_type):\n",
    "        if knife_type == 'steak':\n",
    "            return BudgetSteakKnife()\n",
    "        elif knife_type == 'chef':\n",
    "            return BudgetChefKnife()\n",
    "        else:\n",
    "            return None"
   ]
  }
 ],
 "metadata": {
  "kernelspec": {
   "display_name": "Python 3",
   "language": "python",
   "name": "python3"
  },
  "language_info": {
   "codemirror_mode": {
    "name": "ipython",
    "version": 3
   },
   "file_extension": ".py",
   "mimetype": "text/x-python",
   "name": "python",
   "nbconvert_exporter": "python",
   "pygments_lexer": "ipython3",
   "version": "3.10.4"
  },
  "orig_nbformat": 4,
  "vscode": {
   "interpreter": {
    "hash": "cebb4ce401eb3de5659966fd3ccc10327db9c280404c0c1b484be62a3fb11364"
   }
  }
 },
 "nbformat": 4,
 "nbformat_minor": 2
}
